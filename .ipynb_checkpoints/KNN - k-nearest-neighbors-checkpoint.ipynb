{
 "cells": [
  {
   "cell_type": "markdown",
   "metadata": {},
   "source": [
    "## K Nearest Neightbors"
   ]
  },
  {
   "cell_type": "code",
   "execution_count": null,
   "metadata": {},
   "outputs": [],
   "source": [
    "# Key intuition notes: if you have a new data point scattered between two categories of independent variables, how we can determine what category the new data point will belong to? \n",
    "# KNN find the euclidean distance between key points, accoriding to the K selected, and the new data point of interest\n",
    "# The most common K is K=5\n",
    "# Take the k=5 nearest neightbors of the new data point, according to the shortest Euclidean distance"
   ]
  }
 ],
 "metadata": {
  "kernelspec": {
   "display_name": "Python 3",
   "language": "python",
   "name": "python3"
  },
  "language_info": {
   "codemirror_mode": {
    "name": "ipython",
    "version": 3
   },
   "file_extension": ".py",
   "mimetype": "text/x-python",
   "name": "python",
   "nbconvert_exporter": "python",
   "pygments_lexer": "ipython3",
   "version": "3.7.4"
  }
 },
 "nbformat": 4,
 "nbformat_minor": 2
}
